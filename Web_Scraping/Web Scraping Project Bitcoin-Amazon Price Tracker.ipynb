{
 "cells": [
  {
   "cell_type": "code",
   "execution_count": 57,
   "id": "26d0505f",
   "metadata": {},
   "outputs": [],
   "source": [
    "import requests\n",
    "from bs4 import BeautifulSoup\n",
    "import pandas as pd\n",
    "import re"
   ]
  },
  {
   "cell_type": "code",
   "execution_count": 7,
   "id": "d50433ad",
   "metadata": {},
   "outputs": [],
   "source": [
    "url = \"https://www.amazon.fr/deal/7c4933e5/?_encoding=UTF8&_encoding=UTF8&showVariations=true&ref_=dlx_gate_dd_dcl_tlt_7c4933e5_dt_pd_gw_unk&pd_rd_w=oBtqH&content-id=amzn1.sym.9db64ab0-3092-4b97-a089-58741bbd60bf&pf_rd_p=9db64ab0-3092-4b97-a089-58741bbd60bf&pf_rd_r=2A1PP43873H9E55YM3D7&pd_rd_wg=81vGL&pd_rd_r=eaa77776-9810-41d1-a385-365de0ce0c7d\""
   ]
  },
  {
   "cell_type": "code",
   "execution_count": 10,
   "id": "68a8602f",
   "metadata": {},
   "outputs": [
    {
     "data": {
      "text/plain": [
       "<Response [200]>"
      ]
     },
     "execution_count": 10,
     "metadata": {},
     "output_type": "execute_result"
    }
   ],
   "source": [
    "response = requests.get(url)\n",
    "response"
   ]
  },
  {
   "cell_type": "code",
   "execution_count": 11,
   "id": "82b1d7b2",
   "metadata": {},
   "outputs": [],
   "source": [
    "raw_code = response.text"
   ]
  },
  {
   "cell_type": "code",
   "execution_count": 12,
   "id": "03d738a8",
   "metadata": {},
   "outputs": [],
   "source": [
    "soup = BeautifulSoup(raw_code, 'lxml')"
   ]
  },
  {
   "cell_type": "code",
   "execution_count": 79,
   "id": "869e48b3",
   "metadata": {},
   "outputs": [],
   "source": [
    "#Fetching bitcoin's price from the HTML (from Bitcoin website)\n",
    "\n",
    "price = soup.select(\".css-dbxihu\")\n",
    "\n",
    "price1 = soup.find(class_=\"css-dbxihu\").text #more efficient : dont have to use a for loop (select output a list)\n",
    "\n",
    "#text_price = [i.text for i in price]\n",
    "formated_price = text_price[0][5:]\n",
    "\n",
    "formated_price1 = price1[5:]\n",
    "\n",
    "\n",
    "a = formated_price.replace(',','')\n",
    "\n",
    "real_price = float(a)"
   ]
  },
  {
   "cell_type": "code",
   "execution_count": 95,
   "id": "728df831",
   "metadata": {},
   "outputs": [
    {
     "data": {
      "text/plain": [
       "'Moulinex Hachoir électrique, Fonctions 3-en, Emince, Hache, Mixe, 300 W, 4 lames, 400 ml, Système de pression simple, Sûr, Moulinette Essential, Blanc DJ520110'"
      ]
     },
     "execution_count": 95,
     "metadata": {},
     "output_type": "execute_result"
    }
   ],
   "source": [
    "#Fetching products name from the HTML (from Amazon)\n",
    "name = soup.find_all(class_=\"a-section octopus-dlp-asin-title\")\n",
    "\n",
    "#Using a comprehensive list to:\n",
    "\n",
    "#1.Fetching all products name from the page in text format\n",
    "#formatted_name = [i.text for i in name]\n",
    "\n",
    "#2.Lot of whitespace in each products name, we used string slicing first to identify spaces and \"\\n\" elements:\n",
    "#formatted_name[4][26:]\n",
    "\n",
    "#3.Using REGEX sub()function in the comprensive list to first remove all \"\\n\" and white space btw \"\\n\" :\n",
    "#formatted_name = [re.sub(r'\\n.*?\\n', '', i.text) for i in name]\n",
    "\n",
    "#4 Adding lstrip() in the comprehensive_name to remove all whitespace at the beginning of each products name:\n",
    "formatted_name = [re.sub(r'\\n.*?\\n', '', i.text).lstrip() for i in name]\n",
    "\n",
    "\n",
    "#formatted_name"
   ]
  },
  {
   "cell_type": "code",
   "execution_count": 102,
   "id": "16507200",
   "metadata": {},
   "outputs": [],
   "source": [
    "#Fetching products price from the HTML (from Amazon)\n",
    "price = soup.find_all(class_=\"a-offscreen\")\n",
    "\n",
    "#formatted_price = [i.text for i in price]\n",
    "formatted_price = [re.sub(r'\\xa0','', i.text) for i in price]"
   ]
  },
  {
   "cell_type": "code",
   "execution_count": 114,
   "id": "768c34fc",
   "metadata": {},
   "outputs": [],
   "source": [
    "#Fetching products rating from the HTML (from Amazon)\n",
    "rating = soup.find_all(class_=\"a-icon-alt\")\n",
    "\n",
    "#formatted_rating = [i.text for i in rating]\n",
    "#formatted_rating\n",
    "formatted_rating = [re.sub(r'\\xa0',' ', i.text) for i in rating]\n",
    "#formatted_rating"
   ]
  },
  {
   "cell_type": "code",
   "execution_count": 121,
   "id": "a9f3c26e",
   "metadata": {},
   "outputs": [],
   "source": [
    "review = soup.find_all(class_=\"a-size-small a-color-tertiary\")\n",
    "\n",
    "#formatted_review = [i.text for i in review]\n",
    "formatted_review = [re.sub(r'\\xa0',' ', i.text) for i in review]"
   ]
  },
  {
   "cell_type": "code",
   "execution_count": 122,
   "id": "1715ee6b",
   "metadata": {},
   "outputs": [
    {
     "data": {
      "text/html": [
       "<div>\n",
       "<style scoped>\n",
       "    .dataframe tbody tr th:only-of-type {\n",
       "        vertical-align: middle;\n",
       "    }\n",
       "\n",
       "    .dataframe tbody tr th {\n",
       "        vertical-align: top;\n",
       "    }\n",
       "\n",
       "    .dataframe thead th {\n",
       "        text-align: right;\n",
       "    }\n",
       "</style>\n",
       "<table border=\"1\" class=\"dataframe\">\n",
       "  <thead>\n",
       "    <tr style=\"text-align: right;\">\n",
       "      <th></th>\n",
       "      <th>Name</th>\n",
       "      <th>Price</th>\n",
       "      <th>Rating</th>\n",
       "      <th>Review</th>\n",
       "    </tr>\n",
       "  </thead>\n",
       "  <tbody>\n",
       "    <tr>\n",
       "      <th>0</th>\n",
       "      <td>Moulinex Easy Fry Compact Friteuse sans huile,...</td>\n",
       "      <td>59,99€</td>\n",
       "      <td>4,6 sur 5 étoiles</td>\n",
       "      <td>205</td>\n",
       "    </tr>\n",
       "    <tr>\n",
       "      <th>1</th>\n",
       "      <td>Moulinex Hachoir électrique, Fonctions 3-en, E...</td>\n",
       "      <td>29,99€</td>\n",
       "      <td>4,5 sur 5 étoiles</td>\n",
       "      <td>2 159</td>\n",
       "    </tr>\n",
       "    <tr>\n",
       "      <th>2</th>\n",
       "      <td>Moulinex Friteuse sans huile, Capacité XL 5 L,...</td>\n",
       "      <td>69,99€</td>\n",
       "      <td>4,6 sur 5 étoiles</td>\n",
       "      <td>205</td>\n",
       "    </tr>\n",
       "    <tr>\n",
       "      <th>3</th>\n",
       "      <td>Moulinex Friteuse sans huile + Gril, Fenêtre a...</td>\n",
       "      <td>89,99€</td>\n",
       "      <td>4,4 sur 5 étoiles</td>\n",
       "      <td>707</td>\n",
       "    </tr>\n",
       "    <tr>\n",
       "      <th>4</th>\n",
       "      <td>Tefal Crêpière électrique, 2 plaques amovibles...</td>\n",
       "      <td>69,99€</td>\n",
       "      <td>4,7 sur 5 étoiles</td>\n",
       "      <td>594</td>\n",
       "    </tr>\n",
       "    <tr>\n",
       "      <th>5</th>\n",
       "      <td>Tefal Bouilloire électrique noire, Écran numér...</td>\n",
       "      <td>54,99€</td>\n",
       "      <td>4,6 sur 5 étoiles</td>\n",
       "      <td>958</td>\n",
       "    </tr>\n",
       "    <tr>\n",
       "      <th>6</th>\n",
       "      <td>Krups Nescafé Dolce Gusto Machine à café capsu...</td>\n",
       "      <td>69,99€</td>\n",
       "      <td>4,6 sur 5 étoiles</td>\n",
       "      <td>1 282</td>\n",
       "    </tr>\n",
       "    <tr>\n",
       "      <th>7</th>\n",
       "      <td>Tefal Appareil à croque-monsieur, Rapide et pu...</td>\n",
       "      <td>29,99€</td>\n",
       "      <td>4,2 sur 5 étoiles</td>\n",
       "      <td>6 117</td>\n",
       "    </tr>\n",
       "    <tr>\n",
       "      <th>8</th>\n",
       "      <td>Tefal Grille-pain électrique, 2 fentes extra l...</td>\n",
       "      <td>44,99€</td>\n",
       "      <td>4,5 sur 5 étoiles</td>\n",
       "      <td>519</td>\n",
       "    </tr>\n",
       "    <tr>\n",
       "      <th>9</th>\n",
       "      <td>Tefal Machine à gâteau intelligente, 5 program...</td>\n",
       "      <td>134,99€</td>\n",
       "      <td>4,7 sur 5 étoiles</td>\n",
       "      <td>271</td>\n",
       "    </tr>\n",
       "    <tr>\n",
       "      <th>10</th>\n",
       "      <td>Moulinex Friteuse sans huile XL + gril, 4,2 L,...</td>\n",
       "      <td>79,99€</td>\n",
       "      <td>4,1 sur 5 étoiles</td>\n",
       "      <td>6 291</td>\n",
       "    </tr>\n",
       "    <tr>\n",
       "      <th>11</th>\n",
       "      <td>Tefal Friteuse sans huile, Fonction Gril, 9 me...</td>\n",
       "      <td>199,99€</td>\n",
       "      <td>4,3 sur 5 étoiles</td>\n",
       "      <td>23</td>\n",
       "    </tr>\n",
       "  </tbody>\n",
       "</table>\n",
       "</div>"
      ],
      "text/plain": [
       "                                                 Name    Price  \\\n",
       "0   Moulinex Easy Fry Compact Friteuse sans huile,...   59,99€   \n",
       "1   Moulinex Hachoir électrique, Fonctions 3-en, E...   29,99€   \n",
       "2   Moulinex Friteuse sans huile, Capacité XL 5 L,...   69,99€   \n",
       "3   Moulinex Friteuse sans huile + Gril, Fenêtre a...   89,99€   \n",
       "4   Tefal Crêpière électrique, 2 plaques amovibles...   69,99€   \n",
       "5   Tefal Bouilloire électrique noire, Écran numér...   54,99€   \n",
       "6   Krups Nescafé Dolce Gusto Machine à café capsu...   69,99€   \n",
       "7   Tefal Appareil à croque-monsieur, Rapide et pu...   29,99€   \n",
       "8   Tefal Grille-pain électrique, 2 fentes extra l...   44,99€   \n",
       "9   Tefal Machine à gâteau intelligente, 5 program...  134,99€   \n",
       "10  Moulinex Friteuse sans huile XL + gril, 4,2 L,...   79,99€   \n",
       "11  Tefal Friteuse sans huile, Fonction Gril, 9 me...  199,99€   \n",
       "\n",
       "               Rating Review  \n",
       "0   4,6 sur 5 étoiles    205  \n",
       "1   4,5 sur 5 étoiles  2 159  \n",
       "2   4,6 sur 5 étoiles    205  \n",
       "3   4,4 sur 5 étoiles    707  \n",
       "4   4,7 sur 5 étoiles    594  \n",
       "5   4,6 sur 5 étoiles    958  \n",
       "6   4,6 sur 5 étoiles  1 282  \n",
       "7   4,2 sur 5 étoiles  6 117  \n",
       "8   4,5 sur 5 étoiles    519  \n",
       "9   4,7 sur 5 étoiles    271  \n",
       "10  4,1 sur 5 étoiles  6 291  \n",
       "11  4,3 sur 5 étoiles     23  "
      ]
     },
     "execution_count": 122,
     "metadata": {},
     "output_type": "execute_result"
    }
   ],
   "source": [
    "# Create dataframe\n",
    "amazon_table = pd.DataFrame({'Name': formatted_name,'Price': formatted_price, 'Rating': formatted_rating, \"Review\": formatted_review})\n",
    "\n",
    "amazon_table"
   ]
  }
 ],
 "metadata": {
  "kernelspec": {
   "display_name": "Python 3 (ipykernel)",
   "language": "python",
   "name": "python3"
  },
  "language_info": {
   "codemirror_mode": {
    "name": "ipython",
    "version": 3
   },
   "file_extension": ".py",
   "mimetype": "text/x-python",
   "name": "python",
   "nbconvert_exporter": "python",
   "pygments_lexer": "ipython3",
   "version": "3.9.13"
  }
 },
 "nbformat": 4,
 "nbformat_minor": 5
}
